{
 "cells": [
  {
   "cell_type": "code",
   "execution_count": 1,
   "metadata": {
    "ExecuteTime": {
     "end_time": "2019-11-27T11:42:00.205429Z",
     "start_time": "2019-11-27T11:42:00.096609Z"
    }
   },
   "outputs": [],
   "source": [
    "import requests\n",
    "import json"
   ]
  },
  {
   "cell_type": "code",
   "execution_count": 14,
   "metadata": {
    "ExecuteTime": {
     "end_time": "2019-11-27T11:45:26.902877Z",
     "start_time": "2019-11-27T11:45:26.895459Z"
    }
   },
   "outputs": [],
   "source": [
    "url = \"https://us.battle.net/oauth/token\"\n",
    "payload = {\n",
    "    'grant_type': 'client_credentials',\n",
    "    'client_id': 'a40d69d0e1554ff49e272d27a451790f',\n",
    "    'client_secret': '6qtnPOmIEZpXRxw2ZWO8MzozpwkZfPG9',\n",
    "}\n",
    "requests_url = \"https://us.api.blizzard.com/sc2/legacy/profile/1/1/10400261/matches\"\n"
   ]
  },
  {
   "cell_type": "code",
   "execution_count": 51,
   "metadata": {
    "ExecuteTime": {
     "end_time": "2019-11-27T12:26:39.466558Z",
     "start_time": "2019-11-27T12:26:39.460727Z"
    }
   },
   "outputs": [],
   "source": [
    "class RequestsUrl(dict):\n",
    "    token_url = \"https://us.battle.net/oauth/token\"\n",
    "    payload = {\n",
    "        'grant_type': 'client_credentials',\n",
    "        'client_id': 'a40d69d0e1554ff49e272d27a451790f',\n",
    "        'client_secret': '6qtnPOmIEZpXRxw2ZWO8MzozpwkZfPG9',\n",
    "    }\n",
    "#     def __init__(self, **kwargs):\n",
    "#         self.profile = kwargs['profile']\n",
    "#         self.region=kwargs['region']\n",
    "#         self.realm=kwargs['realm']\n",
    "\n",
    "    @property\n",
    "    def base_url(self):\n",
    "        return \"https://us.api.blizzard.com/sc2/legacy/profile\"\n",
    "    \n",
    "    @property\n",
    "    def requests_url(self):\n",
    "        return f'{self.base_url}/{\"/\".join(map(str,[self.region, self.realm, self.profile]))}?access_token={self.token}'\n",
    "    \n",
    "    @property\n",
    "    def token(self):\n",
    "        response = requests.post(self.token_url, data=self.payload)\n",
    "        access_token = json.loads(response.content.decode('utf-8'))['access_token']\n",
    "        return access_token"
   ]
  },
  {
   "cell_type": "code",
   "execution_count": 52,
   "metadata": {
    "ExecuteTime": {
     "end_time": "2019-11-27T12:26:48.474876Z",
     "start_time": "2019-11-27T12:26:40.714321Z"
    }
   },
   "outputs": [
    {
     "name": "stdout",
     "output_type": "stream",
     "text": [
      "https://us.api.blizzard.com/sc2/legacy/profile/1/1/10400261?access_token=USehmvV2itjPtVbH2qJmd89V6883PE2mYg\n"
     ]
    },
    {
     "data": {
      "text/plain": [
       "dict_keys(['id', 'realm', 'displayName', 'clanName', 'clanTag', 'profilePath', 'portrait', 'career', 'swarmLevels', 'campaign', 'season', 'rewards', 'achievements'])"
      ]
     },
     "execution_count": 52,
     "metadata": {},
     "output_type": "execute_result"
    }
   ],
   "source": [
    "profile=10400261\n",
    "region=1\n",
    "realm=1\n",
    "ru = RequestsUrl(profile=profile, region=region, realm=realm)\n",
    "print(ru.requests_url)\n",
    "response = requests.get(ru.requests_url)\n",
    "response_dict = json.loads(response.content.decode('utf-8'))\n",
    "response_dict.keys()"
   ]
  },
  {
   "cell_type": "code",
   "execution_count": 53,
   "metadata": {
    "ExecuteTime": {
     "end_time": "2019-11-27T12:26:49.696157Z",
     "start_time": "2019-11-27T12:26:48.478890Z"
    }
   },
   "outputs": [
    {
     "name": "stdout",
     "output_type": "stream",
     "text": [
      "https://us.api.blizzard.com/sc2/legacy/profile/1/1/10400261?access_token=USehmvV2itjPtVbH2qJmd89V6883PE2mYg\n"
     ]
    },
    {
     "ename": "KeyError",
     "evalue": "'matches'",
     "output_type": "error",
     "traceback": [
      "\u001b[0;31m---------------------------------------------------------------------------\u001b[0m",
      "\u001b[0;31mKeyError\u001b[0m                                  Traceback (most recent call last)",
      "\u001b[0;32m<ipython-input-53-8503a1f3c722>\u001b[0m in \u001b[0;36m<module>\u001b[0;34m\u001b[0m\n\u001b[1;32m      3\u001b[0m \u001b[0mmatch_history\u001b[0m \u001b[0;34m=\u001b[0m \u001b[0mrequests\u001b[0m\u001b[0;34m.\u001b[0m\u001b[0mget\u001b[0m\u001b[0;34m(\u001b[0m\u001b[0mtokened_requests_url\u001b[0m\u001b[0;34m)\u001b[0m\u001b[0;34m\u001b[0m\u001b[0;34m\u001b[0m\u001b[0m\n\u001b[1;32m      4\u001b[0m \u001b[0mmatch_history\u001b[0m \u001b[0;34m=\u001b[0m \u001b[0mjson\u001b[0m\u001b[0;34m.\u001b[0m\u001b[0mloads\u001b[0m\u001b[0;34m(\u001b[0m\u001b[0mmatch_history\u001b[0m\u001b[0;34m.\u001b[0m\u001b[0mcontent\u001b[0m\u001b[0;34m.\u001b[0m\u001b[0mdecode\u001b[0m\u001b[0;34m(\u001b[0m\u001b[0;34m'utf-8'\u001b[0m\u001b[0;34m)\u001b[0m\u001b[0;34m)\u001b[0m\u001b[0;34m\u001b[0m\u001b[0;34m\u001b[0m\u001b[0m\n\u001b[0;32m----> 5\u001b[0;31m \u001b[0mmatches\u001b[0m \u001b[0;34m=\u001b[0m \u001b[0mpd\u001b[0m\u001b[0;34m.\u001b[0m\u001b[0mDataFrame\u001b[0m\u001b[0;34m(\u001b[0m\u001b[0mmatch_history\u001b[0m\u001b[0;34m[\u001b[0m\u001b[0;34m'matches'\u001b[0m\u001b[0;34m]\u001b[0m\u001b[0;34m)\u001b[0m\u001b[0;34m\u001b[0m\u001b[0;34m\u001b[0m\u001b[0m\n\u001b[0m\u001b[1;32m      6\u001b[0m \u001b[0mmatches\u001b[0m\u001b[0;34m\u001b[0m\u001b[0;34m\u001b[0m\u001b[0m\n",
      "\u001b[0;31mKeyError\u001b[0m: 'matches'"
     ]
    }
   ],
   "source": [
    "import pandas as pd\n",
    "print(tokened_requests_url)\n",
    "match_history = requests.get(tokened_requests_url)\n",
    "match_history = json.loads(match_history.content.decode('utf-8'))\n",
    "matches = pd.DataFrame(match_history['matches'])\n",
    "matches"
   ]
  },
  {
   "cell_type": "code",
   "execution_count": 73,
   "metadata": {
    "ExecuteTime": {
     "end_time": "2019-11-27T12:56:33.692859Z",
     "start_time": "2019-11-27T12:56:31.232308Z"
    }
   },
   "outputs": [
    {
     "data": {
      "text/plain": [
       "b'<!doctype html>\\n<html lang=\"en\">\\n<head>\\n  <meta charset=\"utf-8\">\\n  <title>Blizzard Battle.net Developer Portal</title>\\n  <base href=\"/\">\\n  <meta name=\"viewport\" content=\"width=device-width, initial-scale=1\">\\n  <link rel=\"icon\" type=\"image/x-icon\" href=\"favicon.ico\">\\n  <script type=\"text/javascript\">\\n    (function () {\\n      var env = {\\n        \"developer.globalnav.scriptUri\": \"/global-nav/nav.js?sameOrigin=true\",\\n        \"oauth.host\": \"us.battle.net\",\\n        \"tassadar.host\": \"us.battle.net\",\\n        \"cookieConsent.host\": \"battle.net\",\\n        \"cookieConsent.onetrustScriptUrl\": \"https://cdn.cookielaw.org/langswitch/06b5cc84-67ee-4c33-8c20-75d78f201905.js\",\\n      };\\n      var BlzCookieConsent = {\\n        host: env[\\'cookieConsent.host\\'],\\n        onetrustScriptUrl: env[\\'cookieConsent.onetrustScriptUrl\\'],\\n      };\\n      window.BlzAppEnv = env;\\n      window.BlzCookieConsent = BlzCookieConsent;\\n    })();\\n  </script>\\n  <script src=\"assets/cookie-consent-filter-compat.js\" defer></script>\\n  <script>(function (w, d, s, l, i) {\\n    w[l] = w[l] || [];\\n    w[l].push({\\n      \\'gtm.start\\':\\n        new Date().getTime(), event: \\'gtm.js\\'\\n    });\\n    var f = d.getElementsByTagName(s)[0],\\n      j = d.createElement(s), dl = l != \\'dataLayer\\' ? \\'&l=\\' + l : \\'\\';\\n    j.async = true;\\n    j.src =\\n      \\'https://www.googletagmanager.com/gtm.js?id=\\' + i + dl;\\n    f.parentNode.insertBefore(j, f);\\n  })(window, document, \\'script\\', \\'dataLayer\\', \\'GTM-5P9CGRZ\\');</script>\\n<link rel=\"stylesheet\" href=\"styles.0519c05e2054048b939e.css\"></head>\\n<body class=\"blz-dev-global-nav-enabled\">\\n<noscript>\\n  <iframe src=\"https://www.googletagmanager.com/ns.html?id=GTM-5P9CGRZ\" height=\"0\" width=\"0\"\\n          style=\"display:none;visibility:hidden\"></iframe>\\n</noscript>\\n<div id=\"blz-dev-global-nav\"></div>\\n<app-root></app-root>\\n<script type=\"text/javascript\">\\n  (function () {\\n    var script = document.createElement(\"script\");\\n    script.src = window.BlzAppEnv[\"developer.globalnav.scriptUri\"];\\n    document.body.appendChild(script);\\n  })();\\n</script>\\n<script type=\"text/javascript\" src=\"runtime.b5cf6e5d24f5d92803ab.js\"></script><script type=\"text/javascript\" src=\"polyfills.8fbb20c10d52563e8b5a.js\"></script><script type=\"text/javascript\" src=\"main.466f52e0da2fa40f4e9b.js\"></script></body>\\n</html>\\n'"
      ]
     },
     "execution_count": 73,
     "metadata": {},
     "output_type": "execute_result"
    }
   ],
   "source": [
    "url = 'https://develop.battle.net/documentation/api-reference/starcraft-2-community-api'\n",
    "response = requests.get(url).content\n",
    "response\n"
   ]
  },
  {
   "cell_type": "code",
   "execution_count": 72,
   "metadata": {
    "ExecuteTime": {
     "end_time": "2019-11-27T12:56:09.950988Z",
     "start_time": "2019-11-27T12:56:09.937620Z"
    }
   },
   "outputs": [
    {
     "data": {
      "text/plain": [
       "[]"
      ]
     },
     "execution_count": 72,
     "metadata": {},
     "output_type": "execute_result"
    }
   ],
   "source": [
    "from bs4 import BeautifulSoup\n",
    "soup = BeautifulSoup(response, 'lxml')\n",
    "soup.find_all('div', class_=\"blz-list-item__container__container\")"
   ]
  },
  {
   "cell_type": "code",
   "execution_count": 79,
   "metadata": {
    "ExecuteTime": {
     "end_time": "2019-11-27T13:15:29.689014Z",
     "start_time": "2019-11-27T13:15:29.683149Z"
    }
   },
   "outputs": [
    {
     "data": {
      "text/plain": [
       "['sc2', 'legacy', 'profile', ':regionID', ':realmID', ':profileID', '']"
      ]
     },
     "execution_count": 79,
     "metadata": {},
     "output_type": "execute_result"
    }
   ],
   "source": [
    "format = 'sc2/legacy/profile/:regionID/:realmID/:profileID/'\n",
    "import re\n",
    "elements = format.split('/')\n",
    "elements\n",
    "url = '/'.join([e for e in elements])"
   ]
  },
  {
   "cell_type": "code",
   "execution_count": 104,
   "metadata": {
    "ExecuteTime": {
     "end_time": "2019-11-27T14:01:56.242729Z",
     "start_time": "2019-11-27T14:01:55.523838Z"
    }
   },
   "outputs": [
    {
     "data": {
      "text/plain": [
       "'CNlcrymPD1R59NcFqypwTy1C91A4YH12W4'"
      ]
     },
     "execution_count": 104,
     "metadata": {},
     "output_type": "execute_result"
    }
   ],
   "source": [
    "\n"
   ]
  },
  {
   "cell_type": "code",
   "execution_count": 109,
   "metadata": {
    "ExecuteTime": {
     "end_time": "2019-11-27T14:03:06.666861Z",
     "start_time": "2019-11-27T14:03:06.329510Z"
    }
   },
   "outputs": [
    {
     "name": "stdout",
     "output_type": "stream",
     "text": [
      "https://www.battlenet.com.cn/sc2/ladder/655?access_token=CNlcrymPD1R59NcFqypwTy1C91A4YH12W4\n"
     ]
    },
    {
     "data": {
      "text/plain": [
       "b'<!DOCTYPE HTML PUBLIC \"-//IETF//DTD HTML 2.0//EN\">\\n<html><head>\\n<title>500 Internal Server Error</title>\\n</head><body>\\n<h1>Internal Server Error</h1>\\n<p>The server encountered an internal error or\\nmisconfiguration and was unable to complete\\nyour request.</p>\\n<p>Please contact the server administrator at \\n webmaster@worldofwarcraft.com to inform them of the time this error occurred,\\n and the actions you performed just before this error.</p>\\n<p>More information about this error may be available\\nin the server error log.</p>\\n</body></html>\\n'"
      ]
     },
     "execution_count": 109,
     "metadata": {},
     "output_type": "execute_result"
    }
   ],
   "source": [
    "url = \"https://www.battlenet.com.cn/oauth/token\"\n",
    "payload = {\n",
    "    'grant_type': 'client_credentials',\n",
    "    'client_id': 'a40d69d0e1554ff49e272d27a451790f',\n",
    "    'client_secret': '6qtnPOmIEZpXRxw2ZWO8MzozpwkZfPG9',\n",
    "}\n",
    "response = requests.post(url, data=payload)\n",
    "token = json.loads(response.content.decode('utf-8'))['access_token']\n",
    "url = f'https://www.battlenet.com.cn/sc2/ladder/655?access_token={token}'\n",
    "# url = f'https://www.battlenet.com.cn/'\n",
    "\n",
    "print(url)\n",
    "response = requests.get(url)\n",
    "response.content"
   ]
  }
 ],
 "metadata": {
  "kernelspec": {
   "display_name": "Python 3",
   "language": "python",
   "name": "python3"
  },
  "language_info": {
   "codemirror_mode": {
    "name": "ipython",
    "version": 3
   },
   "file_extension": ".py",
   "mimetype": "text/x-python",
   "name": "python",
   "nbconvert_exporter": "python",
   "pygments_lexer": "ipython3",
   "version": "3.7.3"
  }
 },
 "nbformat": 4,
 "nbformat_minor": 2
}
